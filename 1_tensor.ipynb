{
  "nbformat": 4,
  "nbformat_minor": 0,
  "metadata": {
    "colab": {
      "provenance": []
    },
    "kernelspec": {
      "name": "python3",
      "display_name": "Python 3"
    },
    "language_info": {
      "name": "python"
    }
  },
  "cells": [
    {
      "cell_type": "code",
      "execution_count": null,
      "metadata": {
        "colab": {
          "base_uri": "https://localhost:8080/"
        },
        "id": "9ZmDA2sgLCDI",
        "outputId": "1c4df743-62e0-44d5-95be-81f7a73fc735"
      },
      "outputs": [
        {
          "output_type": "stream",
          "name": "stdout",
          "text": [
            "Requirement already satisfied: tensorflow in /usr/local/lib/python3.10/dist-packages (2.13.0)\n",
            "Requirement already satisfied: absl-py>=1.0.0 in /usr/local/lib/python3.10/dist-packages (from tensorflow) (1.4.0)\n",
            "Requirement already satisfied: astunparse>=1.6.0 in /usr/local/lib/python3.10/dist-packages (from tensorflow) (1.6.3)\n",
            "Requirement already satisfied: flatbuffers>=23.1.21 in /usr/local/lib/python3.10/dist-packages (from tensorflow) (23.5.26)\n",
            "Requirement already satisfied: gast<=0.4.0,>=0.2.1 in /usr/local/lib/python3.10/dist-packages (from tensorflow) (0.4.0)\n",
            "Requirement already satisfied: google-pasta>=0.1.1 in /usr/local/lib/python3.10/dist-packages (from tensorflow) (0.2.0)\n",
            "Requirement already satisfied: grpcio<2.0,>=1.24.3 in /usr/local/lib/python3.10/dist-packages (from tensorflow) (1.59.0)\n",
            "Requirement already satisfied: h5py>=2.9.0 in /usr/local/lib/python3.10/dist-packages (from tensorflow) (3.9.0)\n",
            "Requirement already satisfied: keras<2.14,>=2.13.1 in /usr/local/lib/python3.10/dist-packages (from tensorflow) (2.13.1)\n",
            "Requirement already satisfied: libclang>=13.0.0 in /usr/local/lib/python3.10/dist-packages (from tensorflow) (16.0.6)\n",
            "Requirement already satisfied: numpy<=1.24.3,>=1.22 in /usr/local/lib/python3.10/dist-packages (from tensorflow) (1.23.5)\n",
            "Requirement already satisfied: opt-einsum>=2.3.2 in /usr/local/lib/python3.10/dist-packages (from tensorflow) (3.3.0)\n",
            "Requirement already satisfied: packaging in /usr/local/lib/python3.10/dist-packages (from tensorflow) (23.2)\n",
            "Requirement already satisfied: protobuf!=4.21.0,!=4.21.1,!=4.21.2,!=4.21.3,!=4.21.4,!=4.21.5,<5.0.0dev,>=3.20.3 in /usr/local/lib/python3.10/dist-packages (from tensorflow) (3.20.3)\n",
            "Requirement already satisfied: setuptools in /usr/local/lib/python3.10/dist-packages (from tensorflow) (67.7.2)\n",
            "Requirement already satisfied: six>=1.12.0 in /usr/local/lib/python3.10/dist-packages (from tensorflow) (1.16.0)\n",
            "Requirement already satisfied: tensorboard<2.14,>=2.13 in /usr/local/lib/python3.10/dist-packages (from tensorflow) (2.13.0)\n",
            "Requirement already satisfied: tensorflow-estimator<2.14,>=2.13.0 in /usr/local/lib/python3.10/dist-packages (from tensorflow) (2.13.0)\n",
            "Requirement already satisfied: termcolor>=1.1.0 in /usr/local/lib/python3.10/dist-packages (from tensorflow) (2.3.0)\n",
            "Requirement already satisfied: typing-extensions<4.6.0,>=3.6.6 in /usr/local/lib/python3.10/dist-packages (from tensorflow) (4.5.0)\n",
            "Requirement already satisfied: wrapt>=1.11.0 in /usr/local/lib/python3.10/dist-packages (from tensorflow) (1.15.0)\n",
            "Requirement already satisfied: tensorflow-io-gcs-filesystem>=0.23.1 in /usr/local/lib/python3.10/dist-packages (from tensorflow) (0.34.0)\n",
            "Requirement already satisfied: wheel<1.0,>=0.23.0 in /usr/local/lib/python3.10/dist-packages (from astunparse>=1.6.0->tensorflow) (0.41.2)\n",
            "Requirement already satisfied: google-auth<3,>=1.6.3 in /usr/local/lib/python3.10/dist-packages (from tensorboard<2.14,>=2.13->tensorflow) (2.17.3)\n",
            "Requirement already satisfied: google-auth-oauthlib<1.1,>=0.5 in /usr/local/lib/python3.10/dist-packages (from tensorboard<2.14,>=2.13->tensorflow) (1.0.0)\n",
            "Requirement already satisfied: markdown>=2.6.8 in /usr/local/lib/python3.10/dist-packages (from tensorboard<2.14,>=2.13->tensorflow) (3.5)\n",
            "Requirement already satisfied: requests<3,>=2.21.0 in /usr/local/lib/python3.10/dist-packages (from tensorboard<2.14,>=2.13->tensorflow) (2.31.0)\n",
            "Requirement already satisfied: tensorboard-data-server<0.8.0,>=0.7.0 in /usr/local/lib/python3.10/dist-packages (from tensorboard<2.14,>=2.13->tensorflow) (0.7.1)\n",
            "Requirement already satisfied: werkzeug>=1.0.1 in /usr/local/lib/python3.10/dist-packages (from tensorboard<2.14,>=2.13->tensorflow) (3.0.0)\n",
            "Requirement already satisfied: cachetools<6.0,>=2.0.0 in /usr/local/lib/python3.10/dist-packages (from google-auth<3,>=1.6.3->tensorboard<2.14,>=2.13->tensorflow) (5.3.1)\n",
            "Requirement already satisfied: pyasn1-modules>=0.2.1 in /usr/local/lib/python3.10/dist-packages (from google-auth<3,>=1.6.3->tensorboard<2.14,>=2.13->tensorflow) (0.3.0)\n",
            "Requirement already satisfied: rsa<5,>=3.1.4 in /usr/local/lib/python3.10/dist-packages (from google-auth<3,>=1.6.3->tensorboard<2.14,>=2.13->tensorflow) (4.9)\n",
            "Requirement already satisfied: requests-oauthlib>=0.7.0 in /usr/local/lib/python3.10/dist-packages (from google-auth-oauthlib<1.1,>=0.5->tensorboard<2.14,>=2.13->tensorflow) (1.3.1)\n",
            "Requirement already satisfied: charset-normalizer<4,>=2 in /usr/local/lib/python3.10/dist-packages (from requests<3,>=2.21.0->tensorboard<2.14,>=2.13->tensorflow) (3.3.0)\n",
            "Requirement already satisfied: idna<4,>=2.5 in /usr/local/lib/python3.10/dist-packages (from requests<3,>=2.21.0->tensorboard<2.14,>=2.13->tensorflow) (3.4)\n",
            "Requirement already satisfied: urllib3<3,>=1.21.1 in /usr/local/lib/python3.10/dist-packages (from requests<3,>=2.21.0->tensorboard<2.14,>=2.13->tensorflow) (2.0.6)\n",
            "Requirement already satisfied: certifi>=2017.4.17 in /usr/local/lib/python3.10/dist-packages (from requests<3,>=2.21.0->tensorboard<2.14,>=2.13->tensorflow) (2023.7.22)\n",
            "Requirement already satisfied: MarkupSafe>=2.1.1 in /usr/local/lib/python3.10/dist-packages (from werkzeug>=1.0.1->tensorboard<2.14,>=2.13->tensorflow) (2.1.3)\n",
            "Requirement already satisfied: pyasn1<0.6.0,>=0.4.6 in /usr/local/lib/python3.10/dist-packages (from pyasn1-modules>=0.2.1->google-auth<3,>=1.6.3->tensorboard<2.14,>=2.13->tensorflow) (0.5.0)\n",
            "Requirement already satisfied: oauthlib>=3.0.0 in /usr/local/lib/python3.10/dist-packages (from requests-oauthlib>=0.7.0->google-auth-oauthlib<1.1,>=0.5->tensorboard<2.14,>=2.13->tensorflow) (3.2.2)\n"
          ]
        }
      ],
      "source": [
        "pip install tensorflow"
      ]
    },
    {
      "cell_type": "code",
      "source": [
        "#Import necessary Libraries\n",
        "import numpy as np\n",
        "import pandas as pd\n",
        "from sklearn.model_selection import train_test_split\n",
        "from sklearn.preprocessing import StandardScaler\n",
        "from sklearn.datasets import load_iris\n",
        "import tensorflow as tf\n",
        "from tensorflow.keras.models import Sequential\n",
        "from tensorflow.keras.layers import Dense\n",
        "from tensorflow.keras.utils import to_categorical"
      ],
      "metadata": {
        "id": "5UqEhe_yLC95"
      },
      "execution_count": null,
      "outputs": []
    },
    {
      "cell_type": "code",
      "source": [
        "# Load the Iris dataset\n",
        "iris= load_iris()\n",
        "X = iris.data\n",
        "y= iris.target"
      ],
      "metadata": {
        "id": "ApJerYlBLUGq"
      },
      "execution_count": null,
      "outputs": []
    },
    {
      "cell_type": "code",
      "source": [
        "#Split the data into training and testing sets\n",
        "X_train, X_test, y_train, y_test = train_test_split(X, y, test_size=0.2, random_state=42)\n",
        "# Standardize the features\n",
        "scaler = StandardScaler()\n",
        "X_train = scaler.fit_transform(X_train)\n",
        "X_test = scaler.transform(X_test)\n",
        "# One-hot encode the target Labels\n",
        "y_train = to_categorical (y_train)\n",
        "y_test = to_categorical (y_test)"
      ],
      "metadata": {
        "id": "G_gn4PWMLl8f"
      },
      "execution_count": null,
      "outputs": []
    },
    {
      "cell_type": "code",
      "source": [
        "# Create the DNN model\n",
        "model = Sequential ([\n",
        "Dense (units=8, activation='relu', input_shape=(4,)),   # 1st hidden Layer\n",
        "Dense (units=3, activation='softmax') # Output Layer with 3 classes\n",
        "])\n",
        "# Compile the model\n",
        "model.compile(optimizer='adam', loss='categorical_crossentropy', metrics=['accuracy'])"
      ],
      "metadata": {
        "id": "LBVeQ--KL3-E"
      },
      "execution_count": null,
      "outputs": []
    },
    {
      "cell_type": "code",
      "source": [
        "# Train the model\n",
        "model.fit(X_train, y_train, epochs=58, batch_size=10, validation_split=0.2)\n",
        "#Evaluate the model\n",
        "loss, accuracy = model.evaluate(X_test, y_test)\n",
        "print(\"Test loss: (loss:.4f), Test accuracy: (accuracy:.4f}\")"
      ],
      "metadata": {
        "colab": {
          "base_uri": "https://localhost:8080/"
        },
        "id": "DaXnwOZ9NAw2",
        "outputId": "5209a5fc-bd25-4d9a-d061-7c1600ec796f"
      },
      "execution_count": null,
      "outputs": [
        {
          "output_type": "stream",
          "name": "stdout",
          "text": [
            "Epoch 1/58\n",
            "10/10 [==============================] - 1s 29ms/step - loss: 1.1248 - accuracy: 0.5625 - val_loss: 1.2985 - val_accuracy: 0.3750\n",
            "Epoch 2/58\n",
            "10/10 [==============================] - 0s 5ms/step - loss: 1.0851 - accuracy: 0.5729 - val_loss: 1.2537 - val_accuracy: 0.4167\n",
            "Epoch 3/58\n",
            "10/10 [==============================] - 0s 5ms/step - loss: 1.0466 - accuracy: 0.5938 - val_loss: 1.2125 - val_accuracy: 0.4167\n",
            "Epoch 4/58\n",
            "10/10 [==============================] - 0s 6ms/step - loss: 1.0084 - accuracy: 0.6146 - val_loss: 1.1752 - val_accuracy: 0.4167\n",
            "Epoch 5/58\n",
            "10/10 [==============================] - 0s 7ms/step - loss: 0.9748 - accuracy: 0.6146 - val_loss: 1.1374 - val_accuracy: 0.4167\n",
            "Epoch 6/58\n",
            "10/10 [==============================] - 0s 8ms/step - loss: 0.9418 - accuracy: 0.6354 - val_loss: 1.1036 - val_accuracy: 0.4167\n",
            "Epoch 7/58\n",
            "10/10 [==============================] - 0s 6ms/step - loss: 0.9118 - accuracy: 0.6562 - val_loss: 1.0698 - val_accuracy: 0.4167\n",
            "Epoch 8/58\n",
            "10/10 [==============================] - 0s 6ms/step - loss: 0.8833 - accuracy: 0.6667 - val_loss: 1.0388 - val_accuracy: 0.4167\n",
            "Epoch 9/58\n",
            "10/10 [==============================] - 0s 7ms/step - loss: 0.8561 - accuracy: 0.6667 - val_loss: 1.0071 - val_accuracy: 0.4167\n",
            "Epoch 10/58\n",
            "10/10 [==============================] - 0s 7ms/step - loss: 0.8284 - accuracy: 0.6771 - val_loss: 0.9798 - val_accuracy: 0.4583\n",
            "Epoch 11/58\n",
            "10/10 [==============================] - 0s 7ms/step - loss: 0.8051 - accuracy: 0.6771 - val_loss: 0.9498 - val_accuracy: 0.4583\n",
            "Epoch 12/58\n",
            "10/10 [==============================] - 0s 7ms/step - loss: 0.7799 - accuracy: 0.6771 - val_loss: 0.9227 - val_accuracy: 0.4583\n",
            "Epoch 13/58\n",
            "10/10 [==============================] - 0s 7ms/step - loss: 0.7572 - accuracy: 0.6875 - val_loss: 0.8990 - val_accuracy: 0.4583\n",
            "Epoch 14/58\n",
            "10/10 [==============================] - 0s 7ms/step - loss: 0.7363 - accuracy: 0.6875 - val_loss: 0.8732 - val_accuracy: 0.4583\n",
            "Epoch 15/58\n",
            "10/10 [==============================] - 0s 6ms/step - loss: 0.7153 - accuracy: 0.6875 - val_loss: 0.8501 - val_accuracy: 0.4583\n",
            "Epoch 16/58\n",
            "10/10 [==============================] - 0s 6ms/step - loss: 0.6974 - accuracy: 0.6875 - val_loss: 0.8258 - val_accuracy: 0.4583\n",
            "Epoch 17/58\n",
            "10/10 [==============================] - 0s 6ms/step - loss: 0.6794 - accuracy: 0.6667 - val_loss: 0.8001 - val_accuracy: 0.4583\n",
            "Epoch 18/58\n",
            "10/10 [==============================] - 0s 6ms/step - loss: 0.6613 - accuracy: 0.6667 - val_loss: 0.7780 - val_accuracy: 0.4583\n",
            "Epoch 19/58\n",
            "10/10 [==============================] - 0s 8ms/step - loss: 0.6462 - accuracy: 0.6458 - val_loss: 0.7550 - val_accuracy: 0.4583\n",
            "Epoch 20/58\n",
            "10/10 [==============================] - 0s 7ms/step - loss: 0.6303 - accuracy: 0.6458 - val_loss: 0.7352 - val_accuracy: 0.5000\n",
            "Epoch 21/58\n",
            "10/10 [==============================] - 0s 5ms/step - loss: 0.6160 - accuracy: 0.6667 - val_loss: 0.7171 - val_accuracy: 0.5000\n",
            "Epoch 22/58\n",
            "10/10 [==============================] - 0s 7ms/step - loss: 0.6029 - accuracy: 0.6458 - val_loss: 0.6986 - val_accuracy: 0.6250\n",
            "Epoch 23/58\n",
            "10/10 [==============================] - 0s 7ms/step - loss: 0.5902 - accuracy: 0.6562 - val_loss: 0.6795 - val_accuracy: 0.6667\n",
            "Epoch 24/58\n",
            "10/10 [==============================] - 0s 6ms/step - loss: 0.5785 - accuracy: 0.6042 - val_loss: 0.6612 - val_accuracy: 0.7500\n",
            "Epoch 25/58\n",
            "10/10 [==============================] - 0s 7ms/step - loss: 0.5662 - accuracy: 0.6562 - val_loss: 0.6466 - val_accuracy: 0.7917\n",
            "Epoch 26/58\n",
            "10/10 [==============================] - 0s 8ms/step - loss: 0.5559 - accuracy: 0.6875 - val_loss: 0.6311 - val_accuracy: 0.8333\n",
            "Epoch 27/58\n",
            "10/10 [==============================] - 0s 7ms/step - loss: 0.5457 - accuracy: 0.6875 - val_loss: 0.6165 - val_accuracy: 0.8333\n",
            "Epoch 28/58\n",
            "10/10 [==============================] - 0s 7ms/step - loss: 0.5362 - accuracy: 0.7083 - val_loss: 0.6024 - val_accuracy: 0.8333\n",
            "Epoch 29/58\n",
            "10/10 [==============================] - 0s 6ms/step - loss: 0.5268 - accuracy: 0.7292 - val_loss: 0.5898 - val_accuracy: 0.8333\n",
            "Epoch 30/58\n",
            "10/10 [==============================] - 0s 6ms/step - loss: 0.5183 - accuracy: 0.7500 - val_loss: 0.5783 - val_accuracy: 0.8750\n",
            "Epoch 31/58\n",
            "10/10 [==============================] - 0s 6ms/step - loss: 0.5101 - accuracy: 0.7500 - val_loss: 0.5660 - val_accuracy: 0.8750\n",
            "Epoch 32/58\n",
            "10/10 [==============================] - 0s 7ms/step - loss: 0.5029 - accuracy: 0.7396 - val_loss: 0.5541 - val_accuracy: 0.8750\n",
            "Epoch 33/58\n",
            "10/10 [==============================] - 0s 7ms/step - loss: 0.4959 - accuracy: 0.7604 - val_loss: 0.5441 - val_accuracy: 0.8750\n",
            "Epoch 34/58\n",
            "10/10 [==============================] - 0s 6ms/step - loss: 0.4889 - accuracy: 0.7708 - val_loss: 0.5348 - val_accuracy: 0.8750\n",
            "Epoch 35/58\n",
            "10/10 [==============================] - 0s 8ms/step - loss: 0.4828 - accuracy: 0.7708 - val_loss: 0.5263 - val_accuracy: 0.9167\n",
            "Epoch 36/58\n",
            "10/10 [==============================] - 0s 7ms/step - loss: 0.4766 - accuracy: 0.7812 - val_loss: 0.5196 - val_accuracy: 0.9167\n",
            "Epoch 37/58\n",
            "10/10 [==============================] - 0s 6ms/step - loss: 0.4709 - accuracy: 0.7812 - val_loss: 0.5124 - val_accuracy: 0.9167\n",
            "Epoch 38/58\n",
            "10/10 [==============================] - 0s 7ms/step - loss: 0.4657 - accuracy: 0.7812 - val_loss: 0.5049 - val_accuracy: 0.9167\n",
            "Epoch 39/58\n",
            "10/10 [==============================] - 0s 7ms/step - loss: 0.4607 - accuracy: 0.7917 - val_loss: 0.4977 - val_accuracy: 0.9167\n",
            "Epoch 40/58\n",
            "10/10 [==============================] - 0s 6ms/step - loss: 0.4553 - accuracy: 0.8125 - val_loss: 0.4923 - val_accuracy: 0.9167\n",
            "Epoch 41/58\n",
            "10/10 [==============================] - 0s 7ms/step - loss: 0.4506 - accuracy: 0.8125 - val_loss: 0.4868 - val_accuracy: 0.9167\n",
            "Epoch 42/58\n",
            "10/10 [==============================] - 0s 7ms/step - loss: 0.4462 - accuracy: 0.8125 - val_loss: 0.4791 - val_accuracy: 0.9167\n",
            "Epoch 43/58\n",
            "10/10 [==============================] - 0s 7ms/step - loss: 0.4415 - accuracy: 0.8125 - val_loss: 0.4748 - val_accuracy: 0.9167\n",
            "Epoch 44/58\n",
            "10/10 [==============================] - 0s 7ms/step - loss: 0.4372 - accuracy: 0.8229 - val_loss: 0.4692 - val_accuracy: 0.9167\n",
            "Epoch 45/58\n",
            "10/10 [==============================] - 0s 6ms/step - loss: 0.4328 - accuracy: 0.8125 - val_loss: 0.4648 - val_accuracy: 0.9167\n",
            "Epoch 46/58\n",
            "10/10 [==============================] - 0s 6ms/step - loss: 0.4286 - accuracy: 0.8125 - val_loss: 0.4603 - val_accuracy: 0.9167\n",
            "Epoch 47/58\n",
            "10/10 [==============================] - 0s 8ms/step - loss: 0.4248 - accuracy: 0.8125 - val_loss: 0.4543 - val_accuracy: 0.9167\n",
            "Epoch 48/58\n",
            "10/10 [==============================] - 0s 7ms/step - loss: 0.4207 - accuracy: 0.8229 - val_loss: 0.4505 - val_accuracy: 0.9167\n",
            "Epoch 49/58\n",
            "10/10 [==============================] - 0s 7ms/step - loss: 0.4167 - accuracy: 0.8333 - val_loss: 0.4466 - val_accuracy: 0.8750\n",
            "Epoch 50/58\n",
            "10/10 [==============================] - 0s 6ms/step - loss: 0.4130 - accuracy: 0.8333 - val_loss: 0.4431 - val_accuracy: 0.8750\n",
            "Epoch 51/58\n",
            "10/10 [==============================] - 0s 8ms/step - loss: 0.4092 - accuracy: 0.8333 - val_loss: 0.4375 - val_accuracy: 0.8750\n",
            "Epoch 52/58\n",
            "10/10 [==============================] - 0s 6ms/step - loss: 0.4053 - accuracy: 0.8333 - val_loss: 0.4350 - val_accuracy: 0.8750\n",
            "Epoch 53/58\n",
            "10/10 [==============================] - 0s 8ms/step - loss: 0.4019 - accuracy: 0.8333 - val_loss: 0.4298 - val_accuracy: 0.8750\n",
            "Epoch 54/58\n",
            "10/10 [==============================] - 0s 5ms/step - loss: 0.3977 - accuracy: 0.8333 - val_loss: 0.4270 - val_accuracy: 0.8750\n",
            "Epoch 55/58\n",
            "10/10 [==============================] - 0s 6ms/step - loss: 0.3942 - accuracy: 0.8333 - val_loss: 0.4254 - val_accuracy: 0.8750\n",
            "Epoch 56/58\n",
            "10/10 [==============================] - 0s 6ms/step - loss: 0.3905 - accuracy: 0.8333 - val_loss: 0.4223 - val_accuracy: 0.8750\n",
            "Epoch 57/58\n",
            "10/10 [==============================] - 0s 8ms/step - loss: 0.3869 - accuracy: 0.8438 - val_loss: 0.4192 - val_accuracy: 0.8750\n",
            "Epoch 58/58\n",
            "10/10 [==============================] - 0s 7ms/step - loss: 0.3831 - accuracy: 0.8438 - val_loss: 0.4159 - val_accuracy: 0.8750\n",
            "1/1 [==============================] - 0s 29ms/step - loss: 0.3560 - accuracy: 0.9000\n",
            "Test loss: (loss:.4f), Test accuracy: (accuracy:.4f}\n"
          ]
        }
      ]
    },
    {
      "cell_type": "code",
      "source": [],
      "metadata": {
        "id": "yNhiH_v4NRsc"
      },
      "execution_count": null,
      "outputs": []
    }
  ]
}