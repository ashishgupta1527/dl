{
  "nbformat": 4,
  "nbformat_minor": 0,
  "metadata": {
    "colab": {
      "provenance": []
    },
    "kernelspec": {
      "name": "python3",
      "display_name": "Python 3"
    },
    "language_info": {
      "name": "python"
    }
  },
  "cells": [
    {
      "cell_type": "code",
      "execution_count": null,
      "metadata": {
        "id": "LNDqX5x5NmJx"
      },
      "outputs": [],
      "source": [
        "import numpy as np\n",
        "import pandas as pd\n",
        "import tensorflow\n",
        "from tensorflow import keras\n",
        "from keras import Sequential\n",
        "from keras.layers import Dense"
      ]
    },
    {
      "cell_type": "code",
      "source": [
        "df = pd.DataFrame([[0,0,0], [0,1,1],[1,0,1], [1,1,0]], columns=['x', 'y', 'xor'])"
      ],
      "metadata": {
        "id": "UrFhJ3f8NznJ"
      },
      "execution_count": null,
      "outputs": []
    },
    {
      "cell_type": "code",
      "source": [
        "model = Sequential()\n",
        "model.add(Dense(4, activation='sigmoid', input_dim=2))\n",
        "#model.add(Dense (2, activation=\"sigmoid'))\n",
        "model.add(Dense(1, activation='sigmoid'))"
      ],
      "metadata": {
        "id": "OuYuT3lBOGbn"
      },
      "execution_count": null,
      "outputs": []
    },
    {
      "cell_type": "code",
      "source": [
        "model.summary"
      ],
      "metadata": {
        "colab": {
          "base_uri": "https://localhost:8080/"
        },
        "id": "9QaxgUOrONQI",
        "outputId": "c93bd6aa-8a72-476e-8152-1258c330ca56"
      },
      "execution_count": null,
      "outputs": [
        {
          "output_type": "execute_result",
          "data": {
            "text/plain": [
              "<bound method Model.summary of <keras.src.engine.sequential.Sequential object at 0x7e4a467bbd00>>"
            ]
          },
          "metadata": {},
          "execution_count": 5
        }
      ]
    },
    {
      "cell_type": "code",
      "source": [
        "optimizer = keras.optimizers. Adam (learning_rate=0.1)\n",
        "model.compile(loss='binary_crossentropy', optimizer=optimizer, metrics=['accuracy'])"
      ],
      "metadata": {
        "id": "-5mQByHYOPv1"
      },
      "execution_count": null,
      "outputs": []
    },
    {
      "cell_type": "code",
      "source": [
        "model.fit(df.iloc[:,0:-1].values,df[ 'xor'].values, epochs=10,verbose=1, batch_size=1)"
      ],
      "metadata": {
        "colab": {
          "base_uri": "https://localhost:8080/"
        },
        "id": "YawaDXg_OiOL",
        "outputId": "85c3b8de-b03a-49ea-8ac3-e9e075785c2a"
      },
      "execution_count": null,
      "outputs": [
        {
          "output_type": "stream",
          "name": "stdout",
          "text": [
            "Epoch 1/10\n",
            "4/4 [==============================] - 1s 8ms/step - loss: 0.7925 - accuracy: 0.2500\n",
            "Epoch 2/10\n",
            "4/4 [==============================] - 0s 4ms/step - loss: 0.7135 - accuracy: 0.5000\n",
            "Epoch 3/10\n",
            "4/4 [==============================] - 0s 5ms/step - loss: 0.7012 - accuracy: 0.5000\n",
            "Epoch 4/10\n",
            "4/4 [==============================] - 0s 4ms/step - loss: 0.7093 - accuracy: 0.5000\n",
            "Epoch 5/10\n",
            "4/4 [==============================] - 0s 6ms/step - loss: 0.7207 - accuracy: 0.5000\n",
            "Epoch 6/10\n",
            "4/4 [==============================] - 0s 6ms/step - loss: 0.7419 - accuracy: 0.5000\n",
            "Epoch 7/10\n",
            "4/4 [==============================] - 0s 4ms/step - loss: 0.7243 - accuracy: 0.5000\n",
            "Epoch 8/10\n",
            "4/4 [==============================] - 0s 4ms/step - loss: 0.7373 - accuracy: 0.2500\n",
            "Epoch 9/10\n",
            "4/4 [==============================] - 0s 4ms/step - loss: 0.7062 - accuracy: 0.2500\n",
            "Epoch 10/10\n",
            "4/4 [==============================] - 0s 6ms/step - loss: 0.7223 - accuracy: 0.2500\n"
          ]
        },
        {
          "output_type": "execute_result",
          "data": {
            "text/plain": [
              "<keras.src.callbacks.History at 0x7e49bae42800>"
            ]
          },
          "metadata": {},
          "execution_count": 8
        }
      ]
    },
    {
      "cell_type": "code",
      "source": [
        "x_new = np.array([[0, 0], [0, 1], [1, 0], [1, 1]])\n",
        "predictions = [1 if prediction > 0.5 else 0 for prediction in model.predict(x_new)]\n",
        "for i in range(len(x_new)):\n",
        "  print (f\"Input: {x_new[i]}, Predicted Output: {predictions[i]}\")"
      ],
      "metadata": {
        "colab": {
          "base_uri": "https://localhost:8080/"
        },
        "id": "tw6iedmSOut3",
        "outputId": "0c5c1463-4d13-4226-d57c-4f9e1bf5683f"
      },
      "execution_count": null,
      "outputs": [
        {
          "output_type": "stream",
          "name": "stdout",
          "text": [
            "1/1 [==============================] - 0s 373ms/step\n",
            "Input: [0 0], Predicted Output: 0\n",
            "Input: [0 1], Predicted Output: 0\n",
            "Input: [1 0], Predicted Output: 0\n",
            "Input: [1 1], Predicted Output: 0\n"
          ]
        }
      ]
    },
    {
      "cell_type": "code",
      "source": [],
      "metadata": {
        "id": "tZoCewE3PWSl"
      },
      "execution_count": null,
      "outputs": []
    }
  ]
}