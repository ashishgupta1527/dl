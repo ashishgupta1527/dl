{
  "nbformat": 4,
  "nbformat_minor": 0,
  "metadata": {
    "colab": {
      "provenance": []
    },
    "kernelspec": {
      "name": "python3",
      "display_name": "Python 3"
    },
    "language_info": {
      "name": "python"
    }
  },
  "cells": [
    {
      "cell_type": "code",
      "execution_count": null,
      "metadata": {
        "colab": {
          "base_uri": "https://localhost:8080/"
        },
        "id": "hRRjGlHBgA5D",
        "outputId": "a0164b30-41f5-46f4-8f1c-2fbb730005a0"
      },
      "outputs": [
        {
          "output_type": "stream",
          "name": "stdout",
          "text": [
            "Downloading data from https://storage.googleapis.com/tensorflow/tf-keras-datasets/imdb.npz\n",
            "17464789/17464789 [==============================] - 0s 0us/step\n",
            "Epoch 1/5\n",
            "313/313 [==============================] - 22s 61ms/step - loss: 0.4826 - accuracy: 0.7509 - val_loss: 0.3760 - val_accuracy: 0.8320\n",
            "Epoch 2/5\n",
            "313/313 [==============================] - 18s 57ms/step - loss: 0.2745 - accuracy: 0.8897 - val_loss: 0.3590 - val_accuracy: 0.8424\n",
            "Epoch 3/5\n",
            "313/313 [==============================] - 19s 62ms/step - loss: 0.2155 - accuracy: 0.9191 - val_loss: 0.3738 - val_accuracy: 0.8378\n",
            "Epoch 4/5\n",
            "313/313 [==============================] - 18s 57ms/step - loss: 0.1750 - accuracy: 0.9362 - val_loss: 0.4076 - val_accuracy: 0.8338\n",
            "Epoch 5/5\n",
            "313/313 [==============================] - 17s 55ms/step - loss: 0.1376 - accuracy: 0.9525 - val_loss: 0.4458 - val_accuracy: 0.8364\n",
            "782/782 [==============================] - 7s 9ms/step - loss: 0.4600 - accuracy: 0.8298\n",
            "Test loss: 0.4600, Test accuracy: 0.8298\n"
          ]
        }
      ],
      "source": [
        "import numpy as np\n",
        "import tensorflow as tf\n",
        "from tensorflow.keras.datasets import imdb\n",
        "from tensorflow.keras.preprocessing.sequence import pad_sequences\n",
        "from tensorflow.keras.models import Sequential\n",
        "from tensorflow.keras.layers import Embedding, GRU, Dense\n",
        "np.random.seed(0)\n",
        "tf.random.set_seed(0)\n",
        "num_words = 10000 # Only consider the top 10,000 most common words\n",
        "max_sequence_length = 100 # Limit the sequence length to 100 words\n",
        "(x_train, y_train), (x_test, y_test) = imdb.load_data(num_words=num_words)\n",
        "x_train = pad_sequences(x_train, maxlen=max_sequence_length)\n",
        "x_test = pad_sequences(x_test, maxlen=max_sequence_length)\n",
        "model = Sequential()\n",
        "model.add(Embedding(input_dim=num_words, output_dim=32,\n",
        "input_length=max_sequence_length))\n",
        "model.add(GRU(units=32))\n",
        "model.add(Dense(units=1, activation='sigmoid'))\n",
        "model.compile(optimizer='adam', loss='binary_crossentropy', metrics=['accuracy'])\n",
        "batch_size = 64\n",
        "epochs = 5\n",
        "model.fit(x_train, y_train, batch_size=batch_size, epochs=epochs,\n",
        "validation_split=0.2)\n",
        "loss, accuracy = model.evaluate(x_test, y_test)\n",
        "print(f\"Test loss: {loss:.4f}, Test accuracy: {accuracy:.4f}\")"
      ]
    },
    {
      "cell_type": "code",
      "source": [],
      "metadata": {
        "id": "XWcCDqasgDh6"
      },
      "execution_count": null,
      "outputs": []
    }
  ]
}